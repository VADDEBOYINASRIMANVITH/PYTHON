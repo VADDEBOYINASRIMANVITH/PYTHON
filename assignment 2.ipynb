{
 "cells": [
  {
   "cell_type": "code",
   "execution_count": 112,
   "metadata": {},
   "outputs": [],
   "source": [
    "# 1.1 Write a Python Program to implement your own myreduce() function which works exactly like Python's built-in function reduce()\n",
    "\n",
    "def myreduce(fun, seq):\n",
    "    result = seq[0]\n",
    "    for i in seq[1:]:\n",
    "        result = fun(result, i)\n",
    "    return result"
   ]
  },
  {
   "cell_type": "code",
   "execution_count": 113,
   "metadata": {},
   "outputs": [],
   "source": [
    "# 1.2 Write a Python program to implement your own myfilter() function which works exactly like Python's built-in function filter()\n",
    "\n",
    "def myfilter(fun, seq):\n",
    "    result = []\n",
    "    for item in seq:\n",
    "        if fun(item):\n",
    "            result.append(item)\n",
    "    return result"
   ]
  },
  {
   "cell_type": "code",
   "execution_count": 114,
   "metadata": {},
   "outputs": [
    {
     "name": "stdout",
     "output_type": "stream",
     "text": [
      "Sum of [1,2,3] : 6\n",
      "Filter only positive Integers on list [0,1,-2,3,4,5] : [1, 3, 4, 5]\n"
     ]
    }
   ],
   "source": [
    "def sum(x,y): return x + y\n",
    "\n",
    "# test myfilter function\n",
    "def ispositive(x):\n",
    "    if (x <= 0): \n",
    "        return False \n",
    "    else: \n",
    "        return True\n",
    "\n",
    "\n",
    "print (\"Sum of [1,2,3] : \"+ str(myreduce(sum, [1,2,3])) )\n",
    "print (\"Filter only positive Integers on list [0,1,-2,3,4,5] : \"  + str(myfilter(ispositive, [0,1,-2,3,4,5])))\n"
   ]
  },
  {
   "cell_type": "code",
   "execution_count": 115,
   "metadata": {},
   "outputs": [
    {
     "name": "stdout",
     "output_type": "stream",
     "text": [
      "['A', 'C', 'A', 'D', 'G', 'I', 'L', 'D']\n"
     ]
    }
   ],
   "source": [
    "# 2. Write List comprehensions to produce the following Lists\n",
    "# 2.1: ['A', 'C', 'A', 'D', 'G', 'I', ’L’, ‘ D’]\n",
    "\n",
    "characters = \"ACADGILD\"\n",
    "list_comp = [ char for char in characters ]\n",
    "print (str(list_comp))"
   ]
  },
  {
   "cell_type": "code",
   "execution_count": 116,
   "metadata": {},
   "outputs": [
    {
     "name": "stdout",
     "output_type": "stream",
     "text": [
      "['x', 'xx', 'xxx', 'xxxx', 'y', 'yy', 'yyy', 'yyyy', 'z', 'zz', 'zzz', 'zzzz']\n"
     ]
    }
   ],
   "source": [
    "# 2.2: ['x', 'xx', 'xxx', 'xxxx', 'y', 'yy', 'yyy', 'yyyy', 'z', 'zz', 'zzz', 'zzzz']\n",
    "\n",
    "characters = ['x','y','z']\n",
    "list_comp = [ char*j for char in characters for j in range(1,5) ]\n",
    "print (str(list_comp))"
   ]
  },
  {
   "cell_type": "code",
   "execution_count": 117,
   "metadata": {},
   "outputs": [
    {
     "name": "stdout",
     "output_type": "stream",
     "text": [
      "['x', 'y', 'z', 'xx', 'yy', 'zz', 'xxx', 'yyy', 'zzz', 'xxxx', 'yyyy', 'zzzz']\n"
     ]
    }
   ],
   "source": [
    "# 2.3 ['x', 'y', 'z', 'xx', 'yy', 'zz', 'xx', 'yy', 'zz', 'xxxx', 'yyyy', 'zzzz']\n",
    "\n",
    "characters = ['x','y','z']\n",
    "list_comp = [ char*j for j in range(1,5) for char in characters ]\n",
    "print (str(list_comp))"
   ]
  },
  {
   "cell_type": "code",
   "execution_count": 118,
   "metadata": {},
   "outputs": [
    {
     "name": "stdout",
     "output_type": "stream",
     "text": [
      "[[2], [3], [4], [3], [4], [5], [4], [5], [6]]\n"
     ]
    }
   ],
   "source": [
    "# 2.4 [[2], [3], [4], [3], [4], [5], [4], [5], [6]]\n",
    "\n",
    "input_list = [2,3,4]\n",
    "result = [ [item+num] for item in input_list for num in range(0,3)]\n",
    "print(str(result))"
   ]
  },
  {
   "cell_type": "code",
   "execution_count": 119,
   "metadata": {},
   "outputs": [
    {
     "name": "stdout",
     "output_type": "stream",
     "text": [
      "[[2, 3, 4, 5], [3, 4, 5, 6], [4, 5, 6, 7], [5, 6, 7, 8]]\n"
     ]
    }
   ],
   "source": [
    "# 2.5 [[2, 3, 4, 5], [3, 4, 5, 6], [4, 5, 6, 7], [5, 6, 7, 8]]\n",
    "\n",
    "input_list = [2,3,4,5]\n",
    "result = [[item+num for item in input_list] for num in range(0,4)]\n",
    "print(str(result))"
   ]
  },
  {
   "cell_type": "code",
   "execution_count": 120,
   "metadata": {},
   "outputs": [
    {
     "data": {
      "text/plain": [
       "[(1, 1), (2, 1), (3, 1), (1, 2), (2, 2), (3, 2), (1, 3), (2, 3), (3, 3)]"
      ]
     },
     "execution_count": 120,
     "metadata": {},
     "output_type": "execute_result"
    }
   ],
   "source": [
    "# 2.6 [(1, 1), (2, 1), (3, 1), (1, 2), (2, 2), (3, 2), (1, 3), (2, 3), (3, 3)]\n",
    "\n",
    "input_list=[1,2,3]\n",
    "result=[(b,a) for a in input_list for b in input_list]\n",
    "result"
   ]
  },
  {
   "cell_type": "code",
   "execution_count": 121,
   "metadata": {},
   "outputs": [],
   "source": [
    "# 3. Implement a function longestWord() that takes a list of words and returns the longest one.\n",
    "\n",
    "def find_longest_word(words_list):\n",
    "    word_len = []\n",
    "    for i in words_list:\n",
    "        word_len.append((len(i), i))\n",
    "    word_len.sort()\n",
    "    return word_len[-1][1]"
   ]
  },
  {
   "cell_type": "code",
   "execution_count": 122,
   "metadata": {},
   "outputs": [
    {
     "data": {
      "text/plain": [
       "'manvith'"
      ]
     },
     "execution_count": 122,
     "metadata": {},
     "output_type": "execute_result"
    }
   ],
   "source": [
    "lists=['ram','shyam','manvith','sai']\n",
    "find_longest_word(lists)"
   ]
  },
  {
   "cell_type": "code",
   "execution_count": 130,
   "metadata": {},
   "outputs": [
    {
     "name": "stdout",
     "output_type": "stream",
     "text": [
      "Enter values of side: a 3\n",
      "Enter values of side: b 4\n",
      "Enter values of side: c 5\n"
     ]
    }
   ],
   "source": [
    "# Task 2: \n",
    "# 1.1: Write a Python Program(with class concepts) to find the area of the triangle using the below formula.\n",
    "\n",
    "# area = (s*(s-a)*(s-b)*(s-c)) ** 0.5\n",
    "\n",
    "# Function to take the length of the sides of triangle from user should be defined in the parent class and function to calculate the area should be defined in sub\n",
    "\n",
    "from math import sqrt\n",
    "\n",
    "class Parent:\n",
    "    def __init__(self,a,b,c):\n",
    "        self.a=a\n",
    "        self.b=b\n",
    "        self.c=c\n",
    "        \n",
    "class Child(Parent):\n",
    "    def __init__(self,*args):\n",
    "        super(Child,self).__init__(*args)\n",
    "        \n",
    "    def area(self,a,b,c):\n",
    "        s=(a+b+c)/2\n",
    "        area=sqrt(s*(s-a)*(s-b)*(s-c))\n",
    "        return area\n",
    "a=int(input(\"Enter values of side: a \"))\n",
    "b=int(input(\"Enter values of side: b \"))\n",
    "c=int(input(\"Enter values of side: c \"))\n"
   ]
  },
  {
   "cell_type": "code",
   "execution_count": 131,
   "metadata": {},
   "outputs": [
    {
     "data": {
      "text/plain": [
       "6.0"
      ]
     },
     "execution_count": 131,
     "metadata": {},
     "output_type": "execute_result"
    }
   ],
   "source": [
    "obj=Child(a,b,c)\n",
    "obj.area(a,b,c)"
   ]
  },
  {
   "cell_type": "code",
   "execution_count": 132,
   "metadata": {},
   "outputs": [],
   "source": [
    "# 1.2: Write a function filter_long_words() that takes a list of words and an integer n and returns the list of words that are longer than n\n",
    "\n",
    "def listing(guess, number):\n",
    "    new_list = []\n",
    "    for i in range(len(guess)):\n",
    "        if len(guess[i]) > number:\n",
    "            new_list.append(guess[i])\n",
    "\n",
    "    print (new_list)"
   ]
  },
  {
   "cell_type": "code",
   "execution_count": 133,
   "metadata": {},
   "outputs": [
    {
     "name": "stdout",
     "output_type": "stream",
     "text": [
      "['fghkj', 'gyhgjyy', 'hggkgg']\n"
     ]
    }
   ],
   "source": [
    "lis=['abc','b','c','fghkj','gyhgjyy','jjj','hggkgg']\n",
    "listing(lis,3)"
   ]
  },
  {
   "cell_type": "code",
   "execution_count": 134,
   "metadata": {},
   "outputs": [],
   "source": [
    "#2.1 : Write a Python program using function concept that maps list of words into a list of integers representing the lengths of the corresponding words.\n",
    "\n",
    "#Hint: If a list [ ab,cde,erty] is passed on to the python function output should come as [2,3,4]\n",
    "#Here 2,3 and 4 are the lengths of the words in the list.\n",
    "\n",
    "def count_words(words):\n",
    "    len_words=[len(i) for i in words]\n",
    "    print(len_words)"
   ]
  },
  {
   "cell_type": "code",
   "execution_count": 135,
   "metadata": {},
   "outputs": [
    {
     "name": "stdout",
     "output_type": "stream",
     "text": [
      "[2, 3, 4]\n"
     ]
    }
   ],
   "source": [
    "l= ['ab','cde','erty']\n",
    "count_words(l)"
   ]
  },
  {
   "cell_type": "code",
   "execution_count": 136,
   "metadata": {},
   "outputs": [
    {
     "name": "stdout",
     "output_type": "stream",
     "text": [
      "h\n",
      "Consonant\n"
     ]
    }
   ],
   "source": [
    "# 2.2: Write a Python function which takes a character (i.e. a string of length 1) and returns True if it is a vowel, False otherwise.\n",
    "\n",
    "s=input()\n",
    "def vow_or_conso(s):\n",
    "    if s in ['a','e','i','o','u']:\n",
    "        print(\"Vowel\")\n",
    "    else:\n",
    "        print(\"Consonant\")\n",
    "vow_or_conso(s)"
   ]
  }
 ],
 "metadata": {
  "kernelspec": {
   "display_name": "Python 3",
   "language": "python",
   "name": "python3"
  },
  "language_info": {
   "codemirror_mode": {
    "name": "ipython",
    "version": 3
   },
   "file_extension": ".py",
   "mimetype": "text/x-python",
   "name": "python",
   "nbconvert_exporter": "python",
   "pygments_lexer": "ipython3",
   "version": "3.7.6"
  }
 },
 "nbformat": 4,
 "nbformat_minor": 4
}
